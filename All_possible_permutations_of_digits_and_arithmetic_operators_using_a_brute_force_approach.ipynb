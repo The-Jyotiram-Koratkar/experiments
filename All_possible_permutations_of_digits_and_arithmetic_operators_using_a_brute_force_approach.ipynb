{
 "cells": [
  {
   "cell_type": "markdown",
   "metadata": {},
   "source": [
    "## To Construct all possible permutations of digits and arithmetic operators using a brute force approach"
   ]
  },
  {
   "cell_type": "code",
   "execution_count": 63,
   "metadata": {},
   "outputs": [
    {
     "name": "stdout",
     "output_type": "stream",
     "text": [
      "1 * 2 + 3\n",
      "1 * 3 + 2\n",
      "2 + 1 * 3\n",
      "2 + 3 * 1\n",
      "2 + 3 / 1\n",
      "2 * 1 + 3\n",
      "2 * 3 - 1\n",
      "2 / 1 + 3\n",
      "3 + 1 * 2\n",
      "3 + 2 * 1\n",
      "3 + 2 / 1\n",
      "3 * 1 + 2\n",
      "3 * 2 - 1\n",
      "3 / 1 + 2\n"
     ]
    }
   ],
   "source": [
    "vals = [1,2,3]\n",
    "operators = ['+', '*', '-', '/']\n",
    "\n",
    "def expressions(values):\n",
    "    # Base case, only one value left\n",
    "    if len(values) == 1:\n",
    "        yield values\n",
    "\n",
    "    # Iterate over the indexes\n",
    "    for i in range(len(values)):\n",
    "        # Pop value from given index and store the remaining values\n",
    "        # to be used with next recursion\n",
    "        forward = values[:]\n",
    "        val = forward.pop(i)\n",
    "\n",
    "        # Yield all value, operator, subexpression combinations\n",
    "        for op in operators:\n",
    "            for rest in expressions(forward):\n",
    "                yield [val, op] + rest\n",
    "\n",
    "for expr in expressions(vals):\n",
    "    expr = ' '.join(str(x) for x in expr)\n",
    "    # For all combinations\n",
    "    print('{} = {}'.format(expr, eval(expr)))\n",
    "    \n",
    "    # For perticular no.\n",
    "    if eval(expr)==5:\n",
    "        print('{} = {}'.format(expr, eval(expr)))"
   ]
  },
  {
   "cell_type": "code",
   "execution_count": 65,
   "metadata": {},
   "outputs": [
    {
     "name": "stdout",
     "output_type": "stream",
     "text": [
      "1+2*3 = 7\n",
      "1+3*2 = 7\n",
      "2*3+1 = 7\n",
      "3*2+1 = 7\n"
     ]
    }
   ],
   "source": [
    "def foo(alist):\n",
    "    import itertools\n",
    "    for something in itertools.permutations(alist):\n",
    "        queue = []\n",
    "        for each in something:\n",
    "            tmp = []\n",
    "            while queue:\n",
    "                previous = queue.pop(0)\n",
    "                tmp.append(previous + '+' + str(each))\n",
    "                tmp.append(previous + '-' + str(each))\n",
    "                tmp.append(previous + '*' + str(each))\n",
    "                tmp.append(previous + '/' + str(each))\n",
    "            if tmp == []:\n",
    "                tmp.append(str(each))\n",
    "            queue = tmp[:]\n",
    "        yield queue\n",
    "if __name__ == \"__main__\":\n",
    "    f = foo([1,2,3])\n",
    "    for permuted in f:\n",
    "#################### For all combinations #################\n",
    "#-----------For many combinations/large no.--------\n",
    "#       with open('/home/cso/fiie2.txt', 'a') as f:\n",
    "#            # Write to the file\n",
    "#            f.write('\\n'.join(\"%s = %d\" % (expression, eval(expression)) for expression in permuted))\n",
    "#            # Close the connection to the file\n",
    "#            f.close()\n",
    "\n",
    "#-----------For few combinations/small no.--------\n",
    "#         print ('\\n'.join(\"%s = %d\" % (expression, eval(expression)) for expression in permuted))\n",
    "\n",
    "###################### For perticular no. ###############\n",
    "#          for expression in permuted:\n",
    "#              if eval(expression)==7:\n",
    "#                  print (''.join(\"%s = %d\" % (expression, eval(expression))))\n",
    "###############################################"
   ]
  },
  {
   "cell_type": "markdown",
   "metadata": {},
   "source": [
    "## Problem Description\n",
    "The program takes three distinct numbers and prints all possible combinations from the digits."
   ]
  },
  {
   "cell_type": "code",
   "execution_count": 66,
   "metadata": {},
   "outputs": [
    {
     "name": "stdout",
     "output_type": "stream",
     "text": [
      "Enter first number:1\n",
      "Enter second number:2\n",
      "Enter third number:3\n",
      "1 2 3\n",
      "1 3 2\n",
      "2 1 3\n",
      "2 3 1\n",
      "3 1 2\n",
      "3 2 1\n"
     ]
    }
   ],
   "source": [
    "a=int(input(\"Enter first number:\"))\n",
    "b=int(input(\"Enter second number:\"))\n",
    "c=int(input(\"Enter third number:\"))\n",
    "d=[]\n",
    "d.append(a)\n",
    "d.append(b)\n",
    "d.append(c)\n",
    "for i in range(0,3):\n",
    "    for j in range(0,3):\n",
    "        for k in range(0,3):\n",
    "            if(i!=j&j!=k&k!=i):\n",
    "                print(d[i],d[j],d[k])"
   ]
  },
  {
   "cell_type": "markdown",
   "metadata": {},
   "source": [
    "Reference: \n",
    "\n",
    "https://www.quora.com/How-can-I-construct-all-possible-permutations-of-digits-and-arithmetic-operators-using-a-brute-force-approach\n",
    "\n",
    "https://stackoverflow.com/questions/39525993/trying-all-combinations-of-operations-on-list-of-variables"
   ]
  }
 ],
 "metadata": {
  "kernelspec": {
   "display_name": "Python 3",
   "language": "python",
   "name": "python3"
  },
  "language_info": {
   "codemirror_mode": {
    "name": "ipython",
    "version": 3
   },
   "file_extension": ".py",
   "mimetype": "text/x-python",
   "name": "python",
   "nbconvert_exporter": "python",
   "pygments_lexer": "ipython3",
   "version": "3.6.3"
  }
 },
 "nbformat": 4,
 "nbformat_minor": 2
}
