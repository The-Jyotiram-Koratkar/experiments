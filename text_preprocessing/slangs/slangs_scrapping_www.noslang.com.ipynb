{
 "cells": [
  {
   "cell_type": "markdown",
   "metadata": {},
   "source": [
    "# Slang Dictionary for Text preprocessing\n",
    "https://www.noslang.com/dictionary/"
   ]
  },
  {
   "cell_type": "code",
   "execution_count": 47,
   "metadata": {},
   "outputs": [],
   "source": [
    "import requests \n",
    "from bs4 import BeautifulSoup\n",
    "import re"
   ]
  },
  {
   "cell_type": "code",
   "execution_count": 56,
   "metadata": {},
   "outputs": [],
   "source": [
    "import string\n",
    "ll = (list(string.ascii_lowercase))"
   ]
  },
  {
   "cell_type": "code",
   "execution_count": 71,
   "metadata": {},
   "outputs": [
    {
     "name": "stdout",
     "output_type": "stream",
     "text": [
      "https://www.noslang.com/dictionary/1/\n",
      "156\n",
      "156\n",
      "https://www.noslang.com/dictionary/a/\n",
      "207\n",
      "207\n",
      "https://www.noslang.com/dictionary/b/\n",
      "324\n",
      "324\n",
      "https://www.noslang.com/dictionary/c/\n",
      "212\n",
      "212\n",
      "https://www.noslang.com/dictionary/d/\n",
      "223\n",
      "223\n",
      "https://www.noslang.com/dictionary/e/\n",
      "75\n",
      "75\n",
      "https://www.noslang.com/dictionary/f/\n",
      "267\n",
      "267\n",
      "https://www.noslang.com/dictionary/g/\n",
      "291\n",
      "291\n",
      "https://www.noslang.com/dictionary/h/\n",
      "207\n",
      "207\n",
      "https://www.noslang.com/dictionary/i/\n",
      "452\n",
      "452\n",
      "https://www.noslang.com/dictionary/j/\n",
      "116\n",
      "116\n",
      "https://www.noslang.com/dictionary/k/\n",
      "100\n",
      "100\n",
      "https://www.noslang.com/dictionary/l/\n",
      "347\n",
      "347\n",
      "https://www.noslang.com/dictionary/m/\n",
      "184\n",
      "184\n",
      "https://www.noslang.com/dictionary/n/\n",
      "264\n",
      "264\n",
      "https://www.noslang.com/dictionary/o/\n",
      "156\n",
      "156\n",
      "https://www.noslang.com/dictionary/p/\n",
      "263\n",
      "263\n",
      "https://www.noslang.com/dictionary/q/\n",
      "23\n",
      "23\n",
      "https://www.noslang.com/dictionary/r/\n",
      "212\n",
      "212\n",
      "https://www.noslang.com/dictionary/s/\n",
      "373\n",
      "373\n",
      "https://www.noslang.com/dictionary/t/\n",
      "380\n",
      "380\n",
      "https://www.noslang.com/dictionary/u/\n",
      "101\n",
      "101\n",
      "https://www.noslang.com/dictionary/v/\n",
      "30\n",
      "30\n",
      "https://www.noslang.com/dictionary/w/\n",
      "456\n",
      "456\n",
      "https://www.noslang.com/dictionary/x/\n",
      "33\n",
      "33\n",
      "https://www.noslang.com/dictionary/y/\n",
      "163\n",
      "163\n",
      "https://www.noslang.com/dictionary/z/\n",
      "12\n",
      "12\n"
     ]
    }
   ],
   "source": [
    "# def slang():\n",
    "meaning = []\n",
    "slang = []\n",
    "# https://www.noslang.com/dictionary/1/\n",
    "URL = (\"https://www.noslang.com/dictionary/1/\")\n",
    "print (URL)\n",
    "r = requests.get(URL) \n",
    "soup = BeautifulSoup(r.content, 'html5lib')\n",
    "dd = list(soup.findAll('dd'))\n",
    "dt = list(soup.findAll('dt'))\n",
    "print (len(soup.findAll('dd')))\n",
    "print (len(soup.findAll('dt')))\n",
    "meaning.append(dd)\n",
    "slang.append(dt)\n",
    "       \n",
    "for i in range(len(ll)):        \n",
    "    URL = (\"https://www.noslang.com/dictionary/%s/\"%(str(ll[i])))\n",
    "    print (URL)\n",
    "    r = requests.get(URL) \n",
    "    soup = BeautifulSoup(r.content, 'html5lib')\n",
    "    dd = list(soup.findAll('dd'))\n",
    "    dt = list(soup.findAll('dt'))\n",
    "    print (len(soup.findAll('dd')))\n",
    "    print (len(soup.findAll('dt')))\n",
    "    meaning.append(dd)\n",
    "    slang.append(dt)"
   ]
  },
  {
   "cell_type": "code",
   "execution_count": 89,
   "metadata": {},
   "outputs": [
    {
     "name": "stdout",
     "output_type": "stream",
     "text": [
      "<dd>oh my god</dd>\n",
      "<dt>z0mg :</dt>\n"
     ]
    }
   ],
   "source": [
    "print (dd[1])\n",
    "print (dt[1])"
   ]
  },
  {
   "cell_type": "code",
   "execution_count": 126,
   "metadata": {},
   "outputs": [
    {
     "name": "stdout",
     "output_type": "stream",
     "text": [
      "5627\n",
      "5627\n"
     ]
    }
   ],
   "source": [
    "# https://www.noslang.com/dictionary/1/\n",
    "meaningfl = [item for sublist in meaning for item in sublist]\n",
    "slangfl = [item for sublist in slang for item in sublist]\n",
    "\n",
    "print (len(meaningfl))\n",
    "print (len(slangfl))"
   ]
  },
  {
   "cell_type": "code",
   "execution_count": 127,
   "metadata": {},
   "outputs": [
    {
     "data": {
      "text/plain": [
       "[1, 2, 3, 4, 5, 6]"
      ]
     },
     "execution_count": 127,
     "metadata": {},
     "output_type": "execute_result"
    }
   ],
   "source": [
    "#  Flattening lists in Python \n",
    "# Example\n",
    "l = [[1,2],[3,4],[5,6]]\n",
    "flat_list = [item for sublist in l for item in sublist]\n",
    "flat_list"
   ]
  },
  {
   "cell_type": "code",
   "execution_count": 125,
   "metadata": {},
   "outputs": [
    {
     "data": {
      "text/plain": [
       "'oh my god'"
      ]
     },
     "execution_count": 125,
     "metadata": {},
     "output_type": "execute_result"
    }
   ],
   "source": [
    "import xml\n",
    "def remove_tags(text):\n",
    "    return ''.join(xml.etree.ElementTree.fromstring(text).itertext())\n",
    "\n",
    "remove_tags('<dd>oh my god</dd>')"
   ]
  },
  {
   "cell_type": "code",
   "execution_count": 119,
   "metadata": {},
   "outputs": [
    {
     "data": {
      "text/html": [
       "<div>\n",
       "<style scoped>\n",
       "    .dataframe tbody tr th:only-of-type {\n",
       "        vertical-align: middle;\n",
       "    }\n",
       "\n",
       "    .dataframe tbody tr th {\n",
       "        vertical-align: top;\n",
       "    }\n",
       "\n",
       "    .dataframe thead th {\n",
       "        text-align: right;\n",
       "    }\n",
       "</style>\n",
       "<table border=\"1\" class=\"dataframe\">\n",
       "  <thead>\n",
       "    <tr style=\"text-align: right;\">\n",
       "      <th></th>\n",
       "      <th>slang</th>\n",
       "      <th>meaning</th>\n",
       "    </tr>\n",
       "  </thead>\n",
       "  <tbody>\n",
       "    <tr>\n",
       "      <th>0</th>\n",
       "      <td>&lt;dt&gt;*4u :&lt;/dt&gt;</td>\n",
       "      <td>&lt;dd&gt;Kiss for you&lt;/dd&gt;</td>\n",
       "    </tr>\n",
       "    <tr>\n",
       "      <th>1</th>\n",
       "      <td>&lt;dt&gt;*67 :&lt;/dt&gt;</td>\n",
       "      <td>&lt;dd&gt;unknown&lt;/dd&gt;</td>\n",
       "    </tr>\n",
       "    <tr>\n",
       "      <th>2</th>\n",
       "      <td>&lt;dt&gt;*eg* :&lt;/dt&gt;</td>\n",
       "      <td>&lt;dd&gt;evil grin&lt;/dd&gt;</td>\n",
       "    </tr>\n",
       "    <tr>\n",
       "      <th>3</th>\n",
       "      <td>&lt;dt&gt;07734 :&lt;/dt&gt;</td>\n",
       "      <td>&lt;dd&gt;hello&lt;/dd&gt;</td>\n",
       "    </tr>\n",
       "    <tr>\n",
       "      <th>4</th>\n",
       "      <td>&lt;dt&gt;0day :&lt;/dt&gt;</td>\n",
       "      <td>&lt;dd&gt;software illegally obtained before it was ...</td>\n",
       "    </tr>\n",
       "  </tbody>\n",
       "</table>\n",
       "</div>"
      ],
      "text/plain": [
       "              slang                                            meaning\n",
       "0    <dt>*4u :</dt>                              <dd>Kiss for you</dd>\n",
       "1    <dt>*67 :</dt>                                   <dd>unknown</dd>\n",
       "2   <dt>*eg* :</dt>                                 <dd>evil grin</dd>\n",
       "3  <dt>07734 :</dt>                                     <dd>hello</dd>\n",
       "4   <dt>0day :</dt>  <dd>software illegally obtained before it was ..."
      ]
     },
     "execution_count": 119,
     "metadata": {},
     "output_type": "execute_result"
    }
   ],
   "source": [
    "import pandas as pd\n",
    "noslang= pd.DataFrame({\n",
    "    'slang':slangfl,\n",
    "    'meaning':meaningfl\n",
    "    })\n",
    "\n",
    "noslang.head()"
   ]
  },
  {
   "cell_type": "code",
   "execution_count": 120,
   "metadata": {},
   "outputs": [
    {
     "data": {
      "text/html": [
       "<div>\n",
       "<style scoped>\n",
       "    .dataframe tbody tr th:only-of-type {\n",
       "        vertical-align: middle;\n",
       "    }\n",
       "\n",
       "    .dataframe tbody tr th {\n",
       "        vertical-align: top;\n",
       "    }\n",
       "\n",
       "    .dataframe thead th {\n",
       "        text-align: right;\n",
       "    }\n",
       "</style>\n",
       "<table border=\"1\" class=\"dataframe\">\n",
       "  <thead>\n",
       "    <tr style=\"text-align: right;\">\n",
       "      <th></th>\n",
       "      <th>slang</th>\n",
       "      <th>meaning</th>\n",
       "    </tr>\n",
       "  </thead>\n",
       "  <tbody>\n",
       "    <tr>\n",
       "      <th>0</th>\n",
       "      <td>*4u :</td>\n",
       "      <td>Kiss for you</td>\n",
       "    </tr>\n",
       "    <tr>\n",
       "      <th>1</th>\n",
       "      <td>*67 :</td>\n",
       "      <td>unknown</td>\n",
       "    </tr>\n",
       "    <tr>\n",
       "      <th>2</th>\n",
       "      <td>*eg* :</td>\n",
       "      <td>evil grin</td>\n",
       "    </tr>\n",
       "    <tr>\n",
       "      <th>3</th>\n",
       "      <td>07734 :</td>\n",
       "      <td>hello</td>\n",
       "    </tr>\n",
       "    <tr>\n",
       "      <th>4</th>\n",
       "      <td>0day :</td>\n",
       "      <td>software illegally obtained before it was rele...</td>\n",
       "    </tr>\n",
       "  </tbody>\n",
       "</table>\n",
       "</div>"
      ],
      "text/plain": [
       "     slang                                            meaning\n",
       "0    *4u :                                       Kiss for you\n",
       "1    *67 :                                            unknown\n",
       "2   *eg* :                                          evil grin\n",
       "3  07734 :                                              hello\n",
       "4   0day :  software illegally obtained before it was rele..."
      ]
     },
     "execution_count": 120,
     "metadata": {},
     "output_type": "execute_result"
    }
   ],
   "source": [
    "noslang = noslang.applymap(lambda x: remove_tags(str(x)))\n",
    "noslang.head()"
   ]
  },
  {
   "cell_type": "code",
   "execution_count": 121,
   "metadata": {},
   "outputs": [
    {
     "data": {
      "text/html": [
       "<div>\n",
       "<style scoped>\n",
       "    .dataframe tbody tr th:only-of-type {\n",
       "        vertical-align: middle;\n",
       "    }\n",
       "\n",
       "    .dataframe tbody tr th {\n",
       "        vertical-align: top;\n",
       "    }\n",
       "\n",
       "    .dataframe thead th {\n",
       "        text-align: right;\n",
       "    }\n",
       "</style>\n",
       "<table border=\"1\" class=\"dataframe\">\n",
       "  <thead>\n",
       "    <tr style=\"text-align: right;\">\n",
       "      <th></th>\n",
       "      <th>slang</th>\n",
       "      <th>meaning</th>\n",
       "    </tr>\n",
       "  </thead>\n",
       "  <tbody>\n",
       "    <tr>\n",
       "      <th>0</th>\n",
       "      <td>*4u</td>\n",
       "      <td>Kiss for you</td>\n",
       "    </tr>\n",
       "    <tr>\n",
       "      <th>1</th>\n",
       "      <td>*67</td>\n",
       "      <td>unknown</td>\n",
       "    </tr>\n",
       "    <tr>\n",
       "      <th>2</th>\n",
       "      <td>*eg*</td>\n",
       "      <td>evil grin</td>\n",
       "    </tr>\n",
       "    <tr>\n",
       "      <th>3</th>\n",
       "      <td>07734</td>\n",
       "      <td>hello</td>\n",
       "    </tr>\n",
       "    <tr>\n",
       "      <th>4</th>\n",
       "      <td>0day</td>\n",
       "      <td>software illegally obtained before it was rele...</td>\n",
       "    </tr>\n",
       "  </tbody>\n",
       "</table>\n",
       "</div>"
      ],
      "text/plain": [
       "    slang                                            meaning\n",
       "0    *4u                                        Kiss for you\n",
       "1    *67                                             unknown\n",
       "2   *eg*                                           evil grin\n",
       "3  07734                                               hello\n",
       "4   0day   software illegally obtained before it was rele..."
      ]
     },
     "execution_count": 121,
     "metadata": {},
     "output_type": "execute_result"
    }
   ],
   "source": [
    "noslang.slang = noslang.slang.apply(lambda x: x.rstrip(':'))\n",
    "noslang.head()"
   ]
  },
  {
   "cell_type": "code",
   "execution_count": 129,
   "metadata": {},
   "outputs": [],
   "source": [
    "noslang.to_csv('noslang.csv', encoding='utf-8',index=False)"
   ]
  },
  {
   "cell_type": "code",
   "execution_count": 130,
   "metadata": {},
   "outputs": [],
   "source": [
    "d = dict(zip(noslang.slang,noslang.meaning))"
   ]
  },
  {
   "cell_type": "code",
   "execution_count": 132,
   "metadata": {},
   "outputs": [],
   "source": [
    "text_file = open(\"slang_dictionary.txt\", \"w\")\n",
    "text_file.write(str(d))\n",
    "text_file.close()"
   ]
  },
  {
   "cell_type": "code",
   "execution_count": null,
   "metadata": {},
   "outputs": [],
   "source": []
  }
 ],
 "metadata": {
  "kernelspec": {
   "display_name": "Python 3",
   "language": "python",
   "name": "python3"
  },
  "language_info": {
   "codemirror_mode": {
    "name": "ipython",
    "version": 3
   },
   "file_extension": ".py",
   "mimetype": "text/x-python",
   "name": "python",
   "nbconvert_exporter": "python",
   "pygments_lexer": "ipython3",
   "version": "3.6.5"
  }
 },
 "nbformat": 4,
 "nbformat_minor": 2
}
